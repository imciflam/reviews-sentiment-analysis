{
  "nbformat": 4,
  "nbformat_minor": 0,
  "metadata": {
    "colab": {
      "name": "Movie_Reviews_ML.ipynb",
      "provenance": [],
      "collapsed_sections": []
    },
    "kernelspec": {
      "name": "python3",
      "display_name": "Python 3"
    }
  },
  "cells": [
    {
      "cell_type": "code",
      "metadata": {
        "id": "K7_YE7hrPVub",
        "colab": {
          "base_uri": "https://localhost:8080/"
        },
        "outputId": "e7378e0b-75cb-45e1-daba-2586baeb1d62"
      },
      "source": [
        "!pip install nltk\n",
        "import nltk \n",
        "nltk.download('punkt')"
      ],
      "execution_count": 4,
      "outputs": [
        {
          "output_type": "stream",
          "text": [
            "Requirement already satisfied: nltk in /usr/local/lib/python3.6/dist-packages (3.2.5)\n",
            "Requirement already satisfied: six in /usr/local/lib/python3.6/dist-packages (from nltk) (1.15.0)\n",
            "[nltk_data] Downloading package punkt to /root/nltk_data...\n",
            "[nltk_data]   Package punkt is already up-to-date!\n"
          ],
          "name": "stdout"
        },
        {
          "output_type": "execute_result",
          "data": {
            "text/plain": [
              "True"
            ]
          },
          "metadata": {
            "tags": []
          },
          "execution_count": 4
        }
      ]
    },
    {
      "cell_type": "code",
      "metadata": {
        "id": "z509uSe_PW1j",
        "colab": {
          "base_uri": "https://localhost:8080/"
        },
        "outputId": "b56446fe-9886-4d0a-c4a3-ba7d3fa54ff1"
      },
      "source": [
        "#tokenizer\n",
        "def format_sentence(sent):\n",
        "  return({word: True for word in nltk.word_tokenize(sent)})\n",
        "\n",
        "##example\n",
        "format_sentence('how are you')"
      ],
      "execution_count": 5,
      "outputs": [
        {
          "output_type": "execute_result",
          "data": {
            "text/plain": [
              "{'are': True, 'how': True, 'you': True}"
            ]
          },
          "metadata": {
            "tags": []
          },
          "execution_count": 5
        }
      ]
    },
    {
      "cell_type": "code",
      "metadata": {
        "colab": {
          "base_uri": "https://localhost:8080/"
        },
        "id": "bCosijkUQvyY",
        "outputId": "37f88bc9-9b0b-4351-8786-6c600ba9751b"
      },
      "source": [
        "from google.colab import drive\n",
        "drive.mount('/content/drive')"
      ],
      "execution_count": 6,
      "outputs": [
        {
          "output_type": "stream",
          "text": [
            "Mounted at /content/drive\n"
          ],
          "name": "stdout"
        }
      ]
    },
    {
      "cell_type": "code",
      "metadata": {
        "id": "Og6I9YwmYIzE",
        "colab": {
          "base_uri": "https://localhost:8080/",
          "height": 419
        },
        "outputId": "6abaf73c-7e70-4970-b563-70f9de9be574"
      },
      "source": [
        "import pandas as pd\n",
        "total = pd.read_csv('/content/drive/MyDrive/Movie_Reviews/movie_review.csv')\n",
        "total\n",
        "\n",
        "#group by html_id\n",
        "total = total.groupby('html_id').agg(lambda x: x.tolist())\n",
        "total = total.reset_index()\n",
        "total\n",
        "\n",
        "#drop other columns: only conserve text\n",
        "total.columns\n",
        "total = total.drop(['html_id', 'fold_id', 'cv_tag', 'sent_id'], axis=1)\n",
        "total"
      ],
      "execution_count": 7,
      "outputs": [
        {
          "output_type": "execute_result",
          "data": {
            "text/html": [
              "<div>\n",
              "<style scoped>\n",
              "    .dataframe tbody tr th:only-of-type {\n",
              "        vertical-align: middle;\n",
              "    }\n",
              "\n",
              "    .dataframe tbody tr th {\n",
              "        vertical-align: top;\n",
              "    }\n",
              "\n",
              "    .dataframe thead th {\n",
              "        text-align: right;\n",
              "    }\n",
              "</style>\n",
              "<table border=\"1\" class=\"dataframe\">\n",
              "  <thead>\n",
              "    <tr style=\"text-align: right;\">\n",
              "      <th></th>\n",
              "      <th>text</th>\n",
              "      <th>tag</th>\n",
              "    </tr>\n",
              "  </thead>\n",
              "  <tbody>\n",
              "    <tr>\n",
              "      <th>0</th>\n",
              "      <td>[warning : anyone offended by blatant , leerin...</td>\n",
              "      <td>[pos, pos, pos, pos, pos, pos, pos, pos, pos, ...</td>\n",
              "    </tr>\n",
              "    <tr>\n",
              "      <th>1</th>\n",
              "      <td>[various films seen at the seattle film festiv...</td>\n",
              "      <td>[neg, neg, neg, neg, neg, neg, neg, neg, neg, ...</td>\n",
              "    </tr>\n",
              "    <tr>\n",
              "      <th>2</th>\n",
              "      <td>[every year--every year at the festival , i wa...</td>\n",
              "      <td>[pos, pos, pos, pos, pos, pos, pos, pos, pos, ...</td>\n",
              "    </tr>\n",
              "    <tr>\n",
              "      <th>3</th>\n",
              "      <td>[this is a film that i was inclined to like at...</td>\n",
              "      <td>[neg, neg, neg, neg, neg, neg, neg, neg, neg, ...</td>\n",
              "    </tr>\n",
              "    <tr>\n",
              "      <th>4</th>\n",
              "      <td>[i'm not sure i should be writing a review of ...</td>\n",
              "      <td>[neg, neg, neg, neg, neg, neg, neg, neg, neg, ...</td>\n",
              "    </tr>\n",
              "    <tr>\n",
              "      <th>...</th>\n",
              "      <td>...</td>\n",
              "      <td>...</td>\n",
              "    </tr>\n",
              "    <tr>\n",
              "      <th>1995</th>\n",
              "      <td>[one might expect a cathartic viewing experien...</td>\n",
              "      <td>[neg, neg, neg, neg, neg, neg, neg, neg, neg, ...</td>\n",
              "    </tr>\n",
              "    <tr>\n",
              "      <th>1996</th>\n",
              "      <td>[susan granger's review of \" mulholland drive ...</td>\n",
              "      <td>[neg, neg, neg, neg, neg, neg, neg, neg, neg, ...</td>\n",
              "    </tr>\n",
              "    <tr>\n",
              "      <th>1997</th>\n",
              "      <td>[historical epic as a genre was almost banishe...</td>\n",
              "      <td>[pos, pos, pos, pos, pos, pos, pos, pos, pos, ...</td>\n",
              "    </tr>\n",
              "    <tr>\n",
              "      <th>1998</th>\n",
              "      <td>[all great things come to an end , and the dot...</td>\n",
              "      <td>[pos, pos, pos, pos, pos, pos, pos, pos, pos, ...</td>\n",
              "    </tr>\n",
              "    <tr>\n",
              "      <th>1999</th>\n",
              "      <td>[plot : during a 10-week span in london in the...</td>\n",
              "      <td>[pos, pos, pos, pos, pos, pos, pos, pos, pos, ...</td>\n",
              "    </tr>\n",
              "  </tbody>\n",
              "</table>\n",
              "<p>2000 rows × 2 columns</p>\n",
              "</div>"
            ],
            "text/plain": [
              "                                                   text                                                tag\n",
              "0     [warning : anyone offended by blatant , leerin...  [pos, pos, pos, pos, pos, pos, pos, pos, pos, ...\n",
              "1     [various films seen at the seattle film festiv...  [neg, neg, neg, neg, neg, neg, neg, neg, neg, ...\n",
              "2     [every year--every year at the festival , i wa...  [pos, pos, pos, pos, pos, pos, pos, pos, pos, ...\n",
              "3     [this is a film that i was inclined to like at...  [neg, neg, neg, neg, neg, neg, neg, neg, neg, ...\n",
              "4     [i'm not sure i should be writing a review of ...  [neg, neg, neg, neg, neg, neg, neg, neg, neg, ...\n",
              "...                                                 ...                                                ...\n",
              "1995  [one might expect a cathartic viewing experien...  [neg, neg, neg, neg, neg, neg, neg, neg, neg, ...\n",
              "1996  [susan granger's review of \" mulholland drive ...  [neg, neg, neg, neg, neg, neg, neg, neg, neg, ...\n",
              "1997  [historical epic as a genre was almost banishe...  [pos, pos, pos, pos, pos, pos, pos, pos, pos, ...\n",
              "1998  [all great things come to an end , and the dot...  [pos, pos, pos, pos, pos, pos, pos, pos, pos, ...\n",
              "1999  [plot : during a 10-week span in london in the...  [pos, pos, pos, pos, pos, pos, pos, pos, pos, ...\n",
              "\n",
              "[2000 rows x 2 columns]"
            ]
          },
          "metadata": {
            "tags": []
          },
          "execution_count": 7
        }
      ]
    },
    {
      "cell_type": "code",
      "metadata": {
        "id": "N-YHU5Oj8a_U",
        "colab": {
          "base_uri": "https://localhost:8080/"
        },
        "outputId": "143d6d7b-9e70-4f46-a700-9139a5a1a75e"
      },
      "source": [
        "#the result is a separated chunks for every reviews: \n",
        "#chunk1, chunk2, ..., sentiment\n",
        "total.values"
      ],
      "execution_count": 8,
      "outputs": [
        {
          "output_type": "execute_result",
          "data": {
            "text/plain": [
              "array([[list(['warning : anyone offended by blatant , leering machismo had better avoid this film .', 'or lots of blood & guts , men against men and mano-et-mano stuff .', \"in other words , it's a walter hill film !\", 'with a john milius script !', 'i always picture these guys getting together and producing a movie between arm-wrestling matches .', 'these films always contain male characters i have a very hard time identifying with , probably due to the likelihood that any meeting between them and me would result in my arm being ripped off and then my subsequent death by beating with said limb .', \"and we got tough guys galore , here ; drug-running banditos by the dozens , all dirty and sweaty and pretty ill-tempered , overall ; a secret task force of army commandos who are in the area to cover-up ( supposedly ) any connection between the government and the drug runners ; and lots of shit-kicking texas dirt farmers who'd as soon shoot you between the eyes as look at you .\", 'in particular , we got nick nolte as one hard-ass texas ranger , powers boothe as the drug kingpin , michael ironsides as the leader of the secret army , and rip torn as the local sheriff .', 'torn is the sympathetic figure of the group ; he smiles before shooting anyone .', 'as to women . . .', \"well , i've never seen jane fonda or meryl streep in a walter hill film , and at this rate , i doubt i ever will .\", 'women exist here to look good , comfort the man , and get argued over .', 'gosh !', 'just like the old days . . .', 'frankly , this is a pretty good movie , if you can accept the premise and can take the macho stuff .', \"the cinematography is excellent , the cast of characters is broad and has texture , the script is quite good , and the film lets you keep up with what's happening yourself , without spelling it out to you .\", 'i appreciate a film that makes me have to think to keep up .', \"finally , there's lots of sam peckinpah slow-motion shoot-ups .\"]),\n",
              "        list(['pos', 'pos', 'pos', 'pos', 'pos', 'pos', 'pos', 'pos', 'pos', 'pos', 'pos', 'pos', 'pos', 'pos', 'pos', 'pos', 'pos', 'pos'])],\n",
              "       [list(['various films seen at the seattle film festival :', \"it's all true/three men on a raft ( u . s . a . , 1942/1986 ) director : orson welles\", 'a recently uncovered one-fourth of orson welle\\'s planned \" docu-drama \" of amazing stories around the world named it\\'s all true , this short dealt with welle\\'s attempts to document the actions of several brazilian fisherman in 1942 who had become folk heroes for their fantastic voyage to rio on a raft .', \"while several clips of the film are seen , the short tends to spend more time trying to recount welle's attempts to film it , despite studio problems , a staggering workload , and extremely ill fortune on the set .\", 'impressive photography , but really only interesting to film historians .', 'sadie thompson ( u . s . a . , 1928 ) director : raoul walsh screenwriter : raoul walsh , from the john colton play \" rain \" , based on w . somerset maugham\\'s story \" miss thompson \" cast : gloria swanson , raoul walsh , lionel barrymore silent', \"after the discussion of the newly-restored version of frank capra's lost horizon , where several scenes had been restored using stills , i was interested to see sadie thompson , where the last 5 minutes of the film had been destroyed many years ago .\", 'this is the silent version of the somerset maugham short story \" miss thompson \" .', 'this is one of the most skillful silent films i have ever seen--little awkwardness , and a very clever script .', \"the actors : gloria swanson , raoul walsh ( who also directed and wrote the screenplay ) and especially lionel barrymore , as the hypocritical reformer who supposedly wants to save sadie's soul , but really wants to get her between the sheets , is the absolute epitome of sanctimonious scoundrel .\", 'swanson adds real life to the character , adding an worldly , affectionate air to the bawdy sadie .', 'unfortunately , the ending is rather poorly tied up ; it is difficult to know whether this is due to the lack of live-action film , or the original script .', \"the happy ending seems particularly poorly tied on ( i cannot believe maugham's short story ended with sadie and our hero moving to australia ) ; the stills are expected to fill in a conclusion we've been waiting an hour and a half for .\", \"still , it's entertaining right up to the end ; certainly barrymore's incredibly hammy performance ( which , nonetheless , works , perhaps due to the silent screen ) is a must for anyone who is fed up with the actions of the falwells , bakkers , and robertses of the religious worlds .\", 'a c movie ; worth 2 . 50 if you can find it .', 'the pied piper ( czechoslovakia , 1986 ) director : jim barta screenwriter : kamil piza', 'this is an animated film from czechoslovakia that is definitely not for kids .', 'it tells the old folk tale of the pied piper with a twist ending i find highly appropriate , and with a lot of political comment along with it .', \"perhaps economic content is a better word--it certainly doesn't show capitalism in a good light .\", 'nor human nature , nor anything else , for that matter .', 'as you may have guessed , this is not a tgif film ; this is the kind of film you are glad is over .', \"not that it wasn't interesting for technical reasons ; this is stop-animation that is very well done .\", 'all the puppets have been carefully carved out of walnuts--except for the animated stuffed rats .', \"boy , sounds like a real comedy vehicle , doesn't it ?\", 'add onto that set design that makes the cabinet of doctor caligari absolutely cheerful in comparison , and you have something to give the wee ones ( and some of the mentally unstable larger folk ) to keep them up at night .', 'some gore .', \"don't bring children to this one .\", \"don't bring adults to this one , unless they're fascinated by puppetry and/or hate capitalism so badly they enjoy seeing wooden puppets raped .\", 'blech .', '. no fun whatsoever .', 'meier ( west germany , 1986 ) director/screenwriter : peter timm cast : rainier grenkowitz , nadja engelbrecht , alexander hauff , thomas besvater sub-titled', 'this film takes us back and forth over the east german/west german border with meier , an east german wallpaperer whose father in the west dies and leaves him a good deal of money .', 'his uncle ( also in the west ) sneaks meier out of the country , unknown to the east germans .', 'meier , however , is less than thrilled-- his girlfriend , his friends and his job ( which he likes ) all exist in east germany .', \"after a round-the-world trip ( his boss think's he's on leave in bulgaria ) , meier starts visiting east germany on day visas with a fake id , and uses his money and his connections to the west to buy his girlfriend presents and bring credit to his work crew's work--while everyone think's he's still living in east germany .\", 'of course , something goes wrong--and the ending is very funny , but it takes the film too long to get there .', 'the humor is spread too thin , and much of the plot is too obvious ( as is the acting ) .', 'still , a good concept for the comedy , and the last five minutes are pretty funny .', 'c -- $2 . 50 .', 'the right hand man ( australia , 1986 ) director : di drew screenplay : helen hodgman cast : rupert everett , hugo weaving , arthur dignam , jennifer claire , catherine mcclements', \"after a lifetime of movie-going , and about four years of attending the seattle international film festival , i've learned several rules which , while not absolute , should certainly be given deference to :\", '1 ) be wary of french comedies .', 'these people like jerry lewis .', '2 ) ken russell is never going to grow up , no matter how long you wait .', '3 ) any film where siff associate director gary tucker refers to the lead as \" old pouty-lips \" is probably not worth watching .', '4 ) when an australian film only awards credit is best cinematography , watch out !', 'australia has good cinematographers up the whazoo , but since weir and miller left for foreign shores , finding a good script or director seems to be a difficult ( not impossible--witness malcolm last year ) task .', 'well , i ignored rules 3 & 4 last night , and sat through a film that should be in the golden turkey awards .', \"it's as if the director was trying to do one of those classic romance stories that were done in the 30's about tragedy among the gentry , and falling in love with people below your station , and horses .\", 'lots and lots of horses .', 'the film opens with a stallion mounting a mare under the direction of her ladyship , which i guess is some kind of foreshadowing , because the missus of the house wants to have her son produce an heir .', 'unfortunately , said son , a reckless idiot who faints at the very worst times , kills his father and loses an arm during a racing accident .', \"highlights include the amputation sequence ; the doctor's daughter , who has the hots for the son , tasting his urine for a diagnosis ; their tender kissing with a window between them ( while it's raining--you'd think a woman studying medicine would know better ) .\", 'the photography is good , but i kept wishing for b&w--everything seems sepia-colored anyway .', \"actually , i wished i was watching swimming to cambodia instead , but that's life .\", \"grade : z . avoid like the plague , unless you're looking for inadvertent yuks .\"]),\n",
              "        list(['neg', 'neg', 'neg', 'neg', 'neg', 'neg', 'neg', 'neg', 'neg', 'neg', 'neg', 'neg', 'neg', 'neg', 'neg', 'neg', 'neg', 'neg', 'neg', 'neg', 'neg', 'neg', 'neg', 'neg', 'neg', 'neg', 'neg', 'neg', 'neg', 'neg', 'neg', 'neg', 'neg', 'neg', 'neg', 'neg', 'neg', 'neg', 'neg', 'neg', 'neg', 'neg', 'neg', 'neg', 'neg', 'neg', 'neg', 'neg', 'neg', 'neg', 'neg', 'neg', 'neg', 'neg', 'neg', 'neg'])],\n",
              "       [list(['every year--every year at the festival , i wait for that film to come along , that one that just pulls me out of my seat , sticks its face up next to my nose , and roars \" sur-prise ! \"', 'into my bewildered visage .', \"it's almost always a surprise .\", 'it sure as niflheim was this time .', 'amazing grace and chuck is being advertised as a modern fairy tale , of a boy in montana who quits his little league team for a very unusual reason .', 'and , in the hands of anyone less careful than the creative staff of this film , it might very well be nothing more than a fairy tale , where we roll our eyes occasionally , smirk to ourselves , and maybe get a forced tear out of the eyes and a \" boy , i wish that could happen \" sigh out of the lips upon exiting the theater and tossing the empty pepsi cup into the trash .', 'another e . t .', 'another short circuit .', 'this film floored me , for the simple reason that while it has a fairy tale concept , the rest of the film takes itself seriously enough , and presents itself well enough , to make it more of an american folk tale , with characters who are both icons and real people at the same time .', \"america has always had its mythical heros , its paul bunyans and john waynes ; this film presents us with more general , but still universal , ideals : the honest , innocent children who have their own inner wisdom ; the athletes who seem to be amalgamations of courage , honor , and love for their respective sport ; the venerable elected official who leads with kindness and understanding , but has the grit to get things done when they need doin' ( does the latter sound familiar ? ) .\", \"amazing grace and chuck is a showcase for these characters , but it never leaves you with the feeling that it's artificial , that it stands behind glass , or that any sharp breeze--or , more importantly , sharp thought--will shatter the wax facade of the panorama .\", 'this is a very sturdy scenario .', 'the principals are always given dialogue , and always give performances--always ( it just blows me away ) -- which made them seem real , yet enforces their particular mythic role .', 'the writer/producer , david field , seems to literally take all the \" yeah , but in real life , this would have happen \" thoughts you get in your head , sticks them in the movie and uses them to bend the plot around to his original heading , in a stronger way then before !', 'astounding !', 'he uses obstacles to the plot to * enforce * it !', \"i am truly impressed ( indeed , envious ) with the skill in which he wrote the story and screenplay ; it's so very unusual , especially in a hollywood film .\", \"i don't want to give too much away , but the basic premise is that chuck ( joshua zuehlke ) , the little league pitcher , decides to give up baseball because of nuclear weapons .\", 'his decision begins an unlikely series of events that involve another athlete , a boston basketball player ( alex english ) , \" amazing \" grace smith , and , well , i\\'m leaving it at that because i wouldn\\'t spoil this film for you for the world .', 'let me just say this , though : i am not recommending this film because i think it has a great message or because of any political positions it might imply .', \"i don't give a rat's ass for the political point-of-view this film expresses , one way or another ; i'm recommending you go see this film because , and only because , it's an excellent story , told with excellence .\", \"no , i don't believe what happens in this film could happen in real life ; while i tend to believe the arms control policy of this country is stilted , i believe in careful negotiations , mutual verification , etc . screw what i think .\", 'the point is , this film is able to suspend my disbelief and tell a story that is one of the most finely crafted pieces of american dream i have ever seen on the movie screen .', 'this is the natural and more--all the mythic qualities without the pretentiousness or the forced feeling of the conclusion , and a much better script to boot .', 'it carried me into the beliefs and ideals of my boyhood--and , more importantly , without any bumps or jolts that would snap me out of the trance with some hint of self-consciousness .', \"special kudos to : both zuehlke ( a real-life little league pitcher who was picked for the part ) and english ( a forward for the denver nuggets ) for their seamless personification of their characters ; jamie lee curtis , who takes a surprisingly small role and makes it exceedingly memorable as amazing's manager and friend ; william l . peterson ( in a * big * change from his role in to live and die in l . a . ) as a father who shows principles without having to stand up and wave a flag doing it ; and gregory peck , as the guy we wish ronald reagan really was ( and who some numbskulls still probably think he is\"]),\n",
              "        list(['pos', 'pos', 'pos', 'pos', 'pos', 'pos', 'pos', 'pos', 'pos', 'pos', 'pos', 'pos', 'pos', 'pos', 'pos', 'pos', 'pos', 'pos', 'pos', 'pos', 'pos', 'pos', 'pos', 'pos', 'pos', 'pos'])],\n",
              "       ...,\n",
              "       [list(['historical epic as a genre was almost banished from hollywood in early 1990s .', 'for many critics , scholars and , most importantly , film producers , it was a thing of the past - something that could have attracted crowds only in the era of black-and-white television and non-cgi special effects .', 'but in 1995 , same as in the case of dances with wolves five years ago , there came the man who decided to use of all his energy and talents of actor , producer and director in order to revitalise that particular genre .', 'and , same as in the case of dances with wolves , he was awarded for his effort with \" oscars \" .', 'the name of the film was braveheart , and the name of its director and main actor was mel gibson .', 'the plot chronicles the life of scottish warlord and folk hero william wallace ( 1272 - 1305 ) .', 'in his time , english king edward i \" longshanks \" ( played by patrick mcgoohan ) has almost completely subdued entire british isles , including scotland , whose proud inhabitants are now subjected by \" ius primae noctis \" and various other forms of humiliation and oppression by english knights .', \"although english had killed his father many years ago , young scottish commoner william wallace ( played by mel gibson ) doesn't care about politics and wants only to have peaceful life with his new bride murron ( played by catherine maccormack ) .\", \"murron's death changes that and wallace takes arms and , together with small but dedicated band of followers , begins guerrilla campaign that would systematically destroy almost every english garrison in the country .\", \"through time , more and more people join his ranks and in 1298 wallace's rag-tag army scores surprising victory against english knights in the battle of stirling bridge .\", \"but the newly won freedom is endangered by the internal squabbles between scots themselves , especially nobles under pretender robert the bruce ( played by angus macfadyen ) , who wouldn't like to have a simple commoner as a national leader .\", \"braveheart was only the second film in the directorial career by mel gibson , so it wouldn't be fair to compare it to the better known genre classics directed by david lean or anthony mann .\", 'however , even when we apply such criteria braveheart is more than decent historical epic that takes new and refreshing approach to the genre .', 'the most noticeable element of this approach is naturalism .', 'while older hollywood films set in medieval europe used to give fairytale-like vision of picturesque castles , splendid costumes and knights in shining armour , gibson shows us the extremely unpleasant world of poverty and feudal injustice where might made right and life was hard , short and brutish .', \"this general unpleasantness is especially underlined in the scenes of battle , where hand-to-hand combat is naturalistically displayed in all its gory details , never seen since verhoeven's ultra-naturalistic flesh & blood .\", 'compared with this naturalistic approach , most of old hollywood epics look like stage plays .', 'braveheart also employs humour at the right places , not only to make bloody realities of medieval british isles more bearable to sensitive audiences , but also to underline its down-to-earth atmosphere , so different from previous historical epics .', 'what makes braveheart \" larger than life \" is his protagonist .', 'mel gibson obviously invested plenty of his energy and talent in bringing the mythical figure of william wallace and , as a result , character of 15th century poems is transformed into superhuman being that resembles late 20th century comic book hero .', 'wallace is more than superior to his enemies , both physically and mentally , yet he is able to show his sensitive , more vulnerable side .', 'naturally , when the character is based on epic poems , most of historical accuracy is going down the drain ( which was the case with almost every historical epic from hollywood in 1990s ) .', \"however , even those who don't particularly care about history or are willing to give poetic license to scriptwriter randall wallace might think that he went over the top in idolising wallace , especially in the second part of film when scottish superhero manages to seduce princess isabel ( played by sophie marceau ) and make her a child .\", \"because of that the disbelief is hardly suspended , and final scenes aren't as effective as they should be .\", 'mel gibson as an actor is truly wonderful , and he is also helped by small army of very good british and irish actors .', 'most memorable of them all is patrick mcgoohan , whose cold , calculated and evil medieval monarch is one of the most effective villains seen in contemporary cinema .', \"brendan gleeson ( who would later become famous for his role in boorman's general ) is also very good as wallace's trusted companion , as well as ian bannen is effective as leprosy-stricken king john balliol .\", \"david o'harra is very entertaining as wallace's irish ally , and angus macfadyen brings a lot of anxiety into his conscience-stricken character of robert the bruce .\", 'women in this film have rather thankless roles , especially marceau as one-dimensional french princess .', \"catherine mccormack as wallace's wife was more interesting , but she was eliminated from the picture early on .\", 'from the technical point of view , the film is also very good .', 'photography by john toll brings a lot of scottish natural beauty to the screen .', 'on the other hand , the musical score by james horner employs too much of modern-day instruments for period piece set in medieval times .', 'although mostly welcomed by critics and audiences alike , braveheart was often criticised for homophobia and other forms of extreme conservatism .', 'the main reason for that was the fact that gibson , among many historical facts , chose to be faithful only to those related to sexual orientation of \" longshank \" \\'s son prince edward ( played by peter hanly ) .', 'he is not only presented as a villain , but also as one of the less competent in villain\\'s camp - and portraying of homosexuals as villains or inferior to heterosexuals is almost unforgivable sin in \" politically correct \" hollywood .', \"to make things even more obvious , good guys in this film are the total opposite of effeminate and incompetent edward - rugged macho men of mountains who are more practical and efficient because they tend to employ conservatives' common sense instead of fashionable theories of ivory tower liberals .\", 'however , although the message of this film might look right-wing , it owes more to leftist ideology of various national liberation movements in 20th century .', 'according to that ideology , oppressed classes ( workers , peasants ) are better suited to fight for national freedom because their members has less to lose in that struggle and , as such , they are more radical , less willing to make compromises and more efficient ; on the other hand , privileged classes ( aristocracy , bourgeoisie ) are more likely to betray the cause of freedom and be in cahoots with foreign oppressors in order to keep their privileges .', 'this marxist worldview is presented in braveheart without any subtlety .', 'in the end , whether the audience is patient enough to discover hidden meanings or simply wants to enjoy entertaining historical epic , braveheart is more than adequate choice for all fans of this recently resurrected genre .']),\n",
              "        list(['pos', 'pos', 'pos', 'pos', 'pos', 'pos', 'pos', 'pos', 'pos', 'pos', 'pos', 'pos', 'pos', 'pos', 'pos', 'pos', 'pos', 'pos', 'pos', 'pos', 'pos', 'pos', 'pos', 'pos', 'pos', 'pos', 'pos', 'pos', 'pos', 'pos', 'pos', 'pos', 'pos', 'pos', 'pos', 'pos', 'pos', 'pos', 'pos', 'pos', 'pos'])],\n",
              "       [list(['all great things come to an end , and the dot-com era embodies that perfectly .', 'beneath a mound of bankruptcy paperwork lies the remains of a former dot-com darling , the company kozmo . com ,', 'an online convenience store stocked with ice cream , porn videos , and other basic necessities of a urban dweller , all hand-delivered by couriers within an hour .', 'designed in 1997 by two college roommates -- joseph parks , a 27 year old goldman sachs banker , and yong kang - kozmo flamed out in three short years , raising more than $280 million in venture capital funding and from partnerships with such bigwigs as starbucks and amazon . com .', 'by december 1999 , the company boasted 4 , 000 employees in 11 cities , its barking ceo park attracting all kinds of media attention .', 'the company was set for an ipo in may 2000 . . .', 'until april 14 , 2000 , the day the stock market took its first big dive , ending the internet era .', 'by april 13 , 2001 , kozmo was out of money and ceased operations .', 'unlike the earlier , similar documentary startup . com , which chronicled the rise and fall of another dot-com , govworks , e-dreams focuses both on its original founders , especially park , and on the common folks that ran the day-to-day operations .', 'the contrast is amazing , showing how a cult persona can convince anyone that any idea is the next big thing .', \"the film's director , wonsuk chin ( too tired to die ) , expertly juxtaposes upper management company meetings with on-the-spot interviews with the bike messengers , general managers , and floor staff that kept kozmo humming .\", \"the film's images give a backbone to the company and provide an emotional edge to its ultimate demise .\", 'the most satisfying part of the film comes in understanding , to a degree , the expectations of numerous ceos commanding these titanic-type businesses .', \"in the film's final interviews with park , we learn what happens when the money dries up and backers don't return phone calls .\", \"in the end , the name of the game was profit , and if you couldn't make money , even the dreamers got the axe .\", 'screened at the 24th annual mill valley film festival .']),\n",
              "        list(['pos', 'pos', 'pos', 'pos', 'pos', 'pos', 'pos', 'pos', 'pos', 'pos', 'pos', 'pos', 'pos', 'pos', 'pos', 'pos'])],\n",
              "       [list(['plot : during a 10-week span in london in the fall of 1888 , jack the ripper , a man whose identity was never uncovered , committed five ritualistic , grisly murders of prostitutes .', 'this film is based on the graphic novel which assembled a theory behind the century-old mystery .', 'critique : awesome !', 'i love dark movies , i love stylish movies , i love good mysteries and i love johnny depp . . . so', 'yes , i really dug this movie !', 'the hughes brothers are back with a vengeance , out to show the world that they are directors to be taken seriously , and this movie , my friends . . . is', 'very serious !', \"in fact , it's also very gruesome and bloody and morbid and creepy and black as hell .\", \"it ain't for the kids , i'll tell you that much .\", 'and if any of those recent hack directors of two-bit scream-esque slasher flicks want some advice on effective \" kill scenes \" , do not look any further , because each one committed to this film is a cinematic stunner , especially when compared to their generic slice-and-dice contrivances .', 'in fact , most of this film\\'s structure is very creative , the actors , all solid , the atmosphere and \" feel \" of the picture , remarkably real ( gotta love those \" unfortunates \" ) , and the descent into darkness , well honed by the filmmakers .', 'you can almost taste the seediness off the screen and quickly come to appreciate the politics of the time .', \"but it's also an impressive mystery film , based on the true-life tale of jack the ripper , a man whose identity was never discovered .\", 'the theory in this film is based on the graphic novel \" from hell \" written by alan moore and presents a compelling story , which despite being a little oliver stone-ish , did manage to tie up all of its loose ends quite nicely , and present us with an entertaining bowl of mayhem , sexual depravity , drug usage , insanity , murders and love ?', 'yes , the brothers even managed to slip a little \" love \" story in here , and despite not truly being developed , i guess it could\\'ve been much worse and taken up more time than was provided already .', 'that\\'s right , there\\'s no real need to put any \" romance \" in a film about a mass murderer !', 'but that aside , you gotta give up the props to actor extraordinaire johnny depp , who once again possesses the strength in character and flawless acting abilities , to center this movie all the way through .', \"sure , he's just playing a less goofier version of his ichabod crane character from sleepy hollow , but he does it so well and even added a michael caine accent to his mixed bag of tricks in this one .\", \"i was also surprised at how little heather graham annoyed me in this film ( i was sure that her presence would ruin this movie , but she was fine ) and how little the dreams/fantasies of depp's character had to do with the film's development ( from what i had seen in the trailer , i thought the filmmakers were going to make this the crux of the story , but thankfully , it wasn't ) .\", \"on the downside , the film doesn't really explain the whole freemasons cult organization real well and lacks character development .\", 'but then again , a story about the most mysterious serial killer of all-time is probably not the ideal spot for character refinement .', \"i mean , the less i knew about each person , the more suspicious i became of each one's motives , reasons , etc . . .\", \"in fact , i was actually quite surprised by who was presented as the killer in the end , and that was in part , due to the distance to which i'd been held from the film's characters . . . or\", 'am i giving the filmmakers too much credit for something that might not have been their intention ?', 'perhaps .', \"overall , this is an extremely creepy production , with glorious cinematography ( reminiscent of coppola's dracula and burton's sleepy hollow ) , a grim score and solid acting .\", \"but it's not for everyone .\", \"some may be utterly repulsed by the gory particulars of these tragic events , and even though the murders aren't shown as graphically as you might think , there's enough here to send the squeamish right out the doors .\", 'but i for one love movies that blend their eclectic visual style with an interesting mystery and palpable , gothic atmosphere , and this flick is just that and plenty more !', \"and god knows that i will certainly not be surrendering the burnt image of jack the ripper's haunting cape silhouette and gleaming silver knife from my mind anytime soon . . . brrrrr !\", \"where's joblo coming from ?\", 'the crow ( 9/10 ) - dark city ( 9/10 ) - dracula ( 7/10 ) - jfk ( 9/10 ) - the nightmare before christmas ( 10/10 ) - the ninth gate ( 8/10 ) - the others ( 9/10 ) - quills ( 8/10 ) - shadow of the vampire ( 6/10 ) - sleepy hollow ( 8/10 )']),\n",
              "        list(['pos', 'pos', 'pos', 'pos', 'pos', 'pos', 'pos', 'pos', 'pos', 'pos', 'pos', 'pos', 'pos', 'pos', 'pos', 'pos', 'pos', 'pos', 'pos', 'pos', 'pos', 'pos', 'pos', 'pos', 'pos', 'pos', 'pos', 'pos', 'pos', 'pos', 'pos', 'pos'])]],\n",
              "      dtype=object)"
            ]
          },
          "metadata": {
            "tags": []
          },
          "execution_count": 8
        }
      ]
    },
    {
      "cell_type": "code",
      "metadata": {
        "id": "z5_dvGlW8V1n",
        "colab": {
          "base_uri": "https://localhost:8080/",
          "height": 419
        },
        "outputId": "617812c9-1705-4bd2-dee5-b9a5bfdde749"
      },
      "source": [
        "#we merge the chunks together and we obtain: \n",
        "#review, sentiment\n",
        "total_text = list()\n",
        "for lists in total.values:\n",
        "  combines_text = ''\n",
        "  for _ in lists[0]:\n",
        "    combines_text = combines_text + _\n",
        "  total_text.append([combines_text, lists[1][0]])\n",
        "\n",
        "#total_text\n",
        "total_text = pd.DataFrame(total_text)\n",
        "total_text"
      ],
      "execution_count": 9,
      "outputs": [
        {
          "output_type": "execute_result",
          "data": {
            "text/html": [
              "<div>\n",
              "<style scoped>\n",
              "    .dataframe tbody tr th:only-of-type {\n",
              "        vertical-align: middle;\n",
              "    }\n",
              "\n",
              "    .dataframe tbody tr th {\n",
              "        vertical-align: top;\n",
              "    }\n",
              "\n",
              "    .dataframe thead th {\n",
              "        text-align: right;\n",
              "    }\n",
              "</style>\n",
              "<table border=\"1\" class=\"dataframe\">\n",
              "  <thead>\n",
              "    <tr style=\"text-align: right;\">\n",
              "      <th></th>\n",
              "      <th>0</th>\n",
              "      <th>1</th>\n",
              "    </tr>\n",
              "  </thead>\n",
              "  <tbody>\n",
              "    <tr>\n",
              "      <th>0</th>\n",
              "      <td>warning : anyone offended by blatant , leering...</td>\n",
              "      <td>pos</td>\n",
              "    </tr>\n",
              "    <tr>\n",
              "      <th>1</th>\n",
              "      <td>various films seen at the seattle film festiva...</td>\n",
              "      <td>neg</td>\n",
              "    </tr>\n",
              "    <tr>\n",
              "      <th>2</th>\n",
              "      <td>every year--every year at the festival , i wai...</td>\n",
              "      <td>pos</td>\n",
              "    </tr>\n",
              "    <tr>\n",
              "      <th>3</th>\n",
              "      <td>this is a film that i was inclined to like at ...</td>\n",
              "      <td>neg</td>\n",
              "    </tr>\n",
              "    <tr>\n",
              "      <th>4</th>\n",
              "      <td>i'm not sure i should be writing a review of t...</td>\n",
              "      <td>neg</td>\n",
              "    </tr>\n",
              "    <tr>\n",
              "      <th>...</th>\n",
              "      <td>...</td>\n",
              "      <td>...</td>\n",
              "    </tr>\n",
              "    <tr>\n",
              "      <th>1995</th>\n",
              "      <td>one might expect a cathartic viewing experienc...</td>\n",
              "      <td>neg</td>\n",
              "    </tr>\n",
              "    <tr>\n",
              "      <th>1996</th>\n",
              "      <td>susan granger's review of \" mulholland drive \"...</td>\n",
              "      <td>neg</td>\n",
              "    </tr>\n",
              "    <tr>\n",
              "      <th>1997</th>\n",
              "      <td>historical epic as a genre was almost banished...</td>\n",
              "      <td>pos</td>\n",
              "    </tr>\n",
              "    <tr>\n",
              "      <th>1998</th>\n",
              "      <td>all great things come to an end , and the dot-...</td>\n",
              "      <td>pos</td>\n",
              "    </tr>\n",
              "    <tr>\n",
              "      <th>1999</th>\n",
              "      <td>plot : during a 10-week span in london in the ...</td>\n",
              "      <td>pos</td>\n",
              "    </tr>\n",
              "  </tbody>\n",
              "</table>\n",
              "<p>2000 rows × 2 columns</p>\n",
              "</div>"
            ],
            "text/plain": [
              "                                                      0    1\n",
              "0     warning : anyone offended by blatant , leering...  pos\n",
              "1     various films seen at the seattle film festiva...  neg\n",
              "2     every year--every year at the festival , i wai...  pos\n",
              "3     this is a film that i was inclined to like at ...  neg\n",
              "4     i'm not sure i should be writing a review of t...  neg\n",
              "...                                                 ...  ...\n",
              "1995  one might expect a cathartic viewing experienc...  neg\n",
              "1996  susan granger's review of \" mulholland drive \"...  neg\n",
              "1997  historical epic as a genre was almost banished...  pos\n",
              "1998  all great things come to an end , and the dot-...  pos\n",
              "1999  plot : during a 10-week span in london in the ...  pos\n",
              "\n",
              "[2000 rows x 2 columns]"
            ]
          },
          "metadata": {
            "tags": []
          },
          "execution_count": 9
        }
      ]
    },
    {
      "cell_type": "code",
      "metadata": {
        "id": "XazXC_Y1O_Bn",
        "colab": {
          "base_uri": "https://localhost:8080/",
          "height": 419
        },
        "outputId": "cc25c3cc-985f-421e-9036-bc117474ecb4"
      },
      "source": [
        "total_positive = total_text.copy()\n",
        "total_positive.columns\n",
        "total_positive = total_positive.loc[total_positive[1] == 'pos'] \n",
        "total_positive"
      ],
      "execution_count": 51,
      "outputs": [
        {
          "output_type": "execute_result",
          "data": {
            "text/html": [
              "<div>\n",
              "<style scoped>\n",
              "    .dataframe tbody tr th:only-of-type {\n",
              "        vertical-align: middle;\n",
              "    }\n",
              "\n",
              "    .dataframe tbody tr th {\n",
              "        vertical-align: top;\n",
              "    }\n",
              "\n",
              "    .dataframe thead th {\n",
              "        text-align: right;\n",
              "    }\n",
              "</style>\n",
              "<table border=\"1\" class=\"dataframe\">\n",
              "  <thead>\n",
              "    <tr style=\"text-align: right;\">\n",
              "      <th></th>\n",
              "      <th>0</th>\n",
              "      <th>1</th>\n",
              "    </tr>\n",
              "  </thead>\n",
              "  <tbody>\n",
              "    <tr>\n",
              "      <th>0</th>\n",
              "      <td>warning : anyone offended by blatant , leering...</td>\n",
              "      <td>pos</td>\n",
              "    </tr>\n",
              "    <tr>\n",
              "      <th>2</th>\n",
              "      <td>every year--every year at the festival , i wai...</td>\n",
              "      <td>pos</td>\n",
              "    </tr>\n",
              "    <tr>\n",
              "      <th>7</th>\n",
              "      <td>an indian runner was more than a courier .he *...</td>\n",
              "      <td>pos</td>\n",
              "    </tr>\n",
              "    <tr>\n",
              "      <th>8</th>\n",
              "      <td>director : penelope spheeris ( decline of west...</td>\n",
              "      <td>pos</td>\n",
              "    </tr>\n",
              "    <tr>\n",
              "      <th>9</th>\n",
              "      <td>* * * * * * minor plot spoilers in review * * ...</td>\n",
              "      <td>pos</td>\n",
              "    </tr>\n",
              "    <tr>\n",
              "      <th>...</th>\n",
              "      <td>...</td>\n",
              "      <td>...</td>\n",
              "    </tr>\n",
              "    <tr>\n",
              "      <th>1992</th>\n",
              "      <td>this is the best british gangster film since t...</td>\n",
              "      <td>pos</td>\n",
              "    </tr>\n",
              "    <tr>\n",
              "      <th>1994</th>\n",
              "      <td>one never quite knows what one is going to get...</td>\n",
              "      <td>pos</td>\n",
              "    </tr>\n",
              "    <tr>\n",
              "      <th>1997</th>\n",
              "      <td>historical epic as a genre was almost banished...</td>\n",
              "      <td>pos</td>\n",
              "    </tr>\n",
              "    <tr>\n",
              "      <th>1998</th>\n",
              "      <td>all great things come to an end , and the dot-...</td>\n",
              "      <td>pos</td>\n",
              "    </tr>\n",
              "    <tr>\n",
              "      <th>1999</th>\n",
              "      <td>plot : during a 10-week span in london in the ...</td>\n",
              "      <td>pos</td>\n",
              "    </tr>\n",
              "  </tbody>\n",
              "</table>\n",
              "<p>1000 rows × 2 columns</p>\n",
              "</div>"
            ],
            "text/plain": [
              "                                                      0    1\n",
              "0     warning : anyone offended by blatant , leering...  pos\n",
              "2     every year--every year at the festival , i wai...  pos\n",
              "7     an indian runner was more than a courier .he *...  pos\n",
              "8     director : penelope spheeris ( decline of west...  pos\n",
              "9     * * * * * * minor plot spoilers in review * * ...  pos\n",
              "...                                                 ...  ...\n",
              "1992  this is the best british gangster film since t...  pos\n",
              "1994  one never quite knows what one is going to get...  pos\n",
              "1997  historical epic as a genre was almost banished...  pos\n",
              "1998  all great things come to an end , and the dot-...  pos\n",
              "1999  plot : during a 10-week span in london in the ...  pos\n",
              "\n",
              "[1000 rows x 2 columns]"
            ]
          },
          "metadata": {
            "tags": []
          },
          "execution_count": 51
        }
      ]
    },
    {
      "cell_type": "code",
      "metadata": {
        "id": "PK5mNsTiPMPA",
        "colab": {
          "base_uri": "https://localhost:8080/",
          "height": 419
        },
        "outputId": "10c46541-8ca6-4a5d-86ec-5fe5dc6d1db7"
      },
      "source": [
        "total_negative = total_text.copy()\n",
        "total_negative.columns\n",
        "total_negative = total_negative.loc[total_negative[1] == 'neg'] \n",
        "total_negative"
      ],
      "execution_count": 11,
      "outputs": [
        {
          "output_type": "execute_result",
          "data": {
            "text/html": [
              "<div>\n",
              "<style scoped>\n",
              "    .dataframe tbody tr th:only-of-type {\n",
              "        vertical-align: middle;\n",
              "    }\n",
              "\n",
              "    .dataframe tbody tr th {\n",
              "        vertical-align: top;\n",
              "    }\n",
              "\n",
              "    .dataframe thead th {\n",
              "        text-align: right;\n",
              "    }\n",
              "</style>\n",
              "<table border=\"1\" class=\"dataframe\">\n",
              "  <thead>\n",
              "    <tr style=\"text-align: right;\">\n",
              "      <th></th>\n",
              "      <th>0</th>\n",
              "      <th>1</th>\n",
              "    </tr>\n",
              "  </thead>\n",
              "  <tbody>\n",
              "    <tr>\n",
              "      <th>1</th>\n",
              "      <td>various films seen at the seattle film festiva...</td>\n",
              "      <td>neg</td>\n",
              "    </tr>\n",
              "    <tr>\n",
              "      <th>3</th>\n",
              "      <td>this is a film that i was inclined to like at ...</td>\n",
              "      <td>neg</td>\n",
              "    </tr>\n",
              "    <tr>\n",
              "      <th>4</th>\n",
              "      <td>i'm not sure i should be writing a review of t...</td>\n",
              "      <td>neg</td>\n",
              "    </tr>\n",
              "    <tr>\n",
              "      <th>5</th>\n",
              "      <td>this review contains spoilers , but believe me...</td>\n",
              "      <td>neg</td>\n",
              "    </tr>\n",
              "    <tr>\n",
              "      <th>6</th>\n",
              "      <td>plot summary : the year is 2024 .the ozone lay...</td>\n",
              "      <td>neg</td>\n",
              "    </tr>\n",
              "    <tr>\n",
              "      <th>...</th>\n",
              "      <td>...</td>\n",
              "      <td>...</td>\n",
              "    </tr>\n",
              "    <tr>\n",
              "      <th>1985</th>\n",
              "      <td>alexander dumas' the three musketeers is one o...</td>\n",
              "      <td>neg</td>\n",
              "    </tr>\n",
              "    <tr>\n",
              "      <th>1990</th>\n",
              "      <td>the one question that eats at me after seeing ...</td>\n",
              "      <td>neg</td>\n",
              "    </tr>\n",
              "    <tr>\n",
              "      <th>1993</th>\n",
              "      <td>mulholland drive did very well at the cannes f...</td>\n",
              "      <td>neg</td>\n",
              "    </tr>\n",
              "    <tr>\n",
              "      <th>1995</th>\n",
              "      <td>one might expect a cathartic viewing experienc...</td>\n",
              "      <td>neg</td>\n",
              "    </tr>\n",
              "    <tr>\n",
              "      <th>1996</th>\n",
              "      <td>susan granger's review of \" mulholland drive \"...</td>\n",
              "      <td>neg</td>\n",
              "    </tr>\n",
              "  </tbody>\n",
              "</table>\n",
              "<p>1000 rows × 2 columns</p>\n",
              "</div>"
            ],
            "text/plain": [
              "                                                      0    1\n",
              "1     various films seen at the seattle film festiva...  neg\n",
              "3     this is a film that i was inclined to like at ...  neg\n",
              "4     i'm not sure i should be writing a review of t...  neg\n",
              "5     this review contains spoilers , but believe me...  neg\n",
              "6     plot summary : the year is 2024 .the ozone lay...  neg\n",
              "...                                                 ...  ...\n",
              "1985  alexander dumas' the three musketeers is one o...  neg\n",
              "1990  the one question that eats at me after seeing ...  neg\n",
              "1993  mulholland drive did very well at the cannes f...  neg\n",
              "1995  one might expect a cathartic viewing experienc...  neg\n",
              "1996  susan granger's review of \" mulholland drive \"...  neg\n",
              "\n",
              "[1000 rows x 2 columns]"
            ]
          },
          "metadata": {
            "tags": []
          },
          "execution_count": 11
        }
      ]
    },
    {
      "cell_type": "code",
      "metadata": {
        "id": "HdLe9IGQPgiA"
      },
      "source": [
        " \n",
        "def create_dict(total_positive, total_negative):\n",
        "  \n",
        "  positive_reviews = list() \n",
        "  for sentence in list(total_positive.values):\n",
        "    positive_reviews.append([format_sentence(sentence[0]), 'pos']) \n",
        "  \n",
        "  negative_reviews = list() \n",
        "  for sentence in list(total_negative.values): \n",
        "    negative_reviews.append([format_sentence(sentence[0]), 'neg']) \n",
        "  \n",
        "  return positive_reviews, negative_reviews\n",
        "\n",
        "Xy_pos, Xy_neg = create_dict(total_positive, total_negative)"
      ],
      "execution_count": 12,
      "outputs": []
    },
    {
      "cell_type": "code",
      "metadata": {
        "id": "fGZbBSeuPlLq"
      },
      "source": [
        "X = pd.concat([total_positive, total_negative], axis=0)\n",
        "X.columns = ['text', 'sentiment']\n",
        "\n",
        "import seaborn as sns\n",
        "sns.countplot(x='sentiment', data=X)\n",
        "\n",
        "# y = pd.DataFrame(X.pop('sentiment'))"
      ],
      "execution_count": null,
      "outputs": []
    },
    {
      "cell_type": "code",
      "metadata": {
        "id": "vmfhMidia2IE"
      },
      "source": [
        "def split(pos, neg, ratio):\n",
        "  train = pos[:int((1-ratio)*len(pos))] + neg[:int((1-ratio)*len(neg))]\n",
        "  test = pos[int((ratio)*len(pos)):] + neg[int((ratio)*len(neg)):]\n",
        "  return train, test\n",
        "\n",
        "Xy_train, Xy_test = split(Xy_pos, Xy_neg, 0.1)"
      ],
      "execution_count": 15,
      "outputs": []
    },
    {
      "cell_type": "code",
      "metadata": {
        "id": "REQNL01ta4Io",
        "colab": {
          "base_uri": "https://localhost:8080/"
        },
        "outputId": "e00de8aa-11fa-4094-b4f4-4083b2b9f9c0"
      },
      "source": [
        "from nltk.classify import NaiveBayesClassifier\n",
        "classifier = NaiveBayesClassifier.train(Xy_train)\n",
        "classifier.show_most_informative_features()"
      ],
      "execution_count": 16,
      "outputs": [
        {
          "output_type": "stream",
          "text": [
            "Most Informative Features\n",
            "               insulting = True              neg : pos    =     17.7 : 1.0\n",
            "               ludicrous = True              neg : pos    =     13.4 : 1.0\n",
            "                  avoids = True              pos : neg    =     12.3 : 1.0\n",
            "             outstanding = True              pos : neg    =     12.3 : 1.0\n",
            "                  regard = True              pos : neg    =     11.7 : 1.0\n",
            "             fascination = True              pos : neg    =     10.3 : 1.0\n",
            "               animators = True              pos : neg    =     10.3 : 1.0\n",
            "                    3000 = True              neg : pos    =     10.3 : 1.0\n",
            "                   .yeah = True              neg : pos    =     10.3 : 1.0\n",
            "                   sucks = True              neg : pos    =      9.8 : 1.0\n"
          ],
          "name": "stdout"
        }
      ]
    },
    {
      "cell_type": "code",
      "metadata": {
        "id": "r0yEVYTDa9Pu",
        "colab": {
          "base_uri": "https://localhost:8080/"
        },
        "outputId": "d66fc4e1-ab58-4e31-888d-3795588d2ce8"
      },
      "source": [
        "from nltk.classify.util import accuracy\n",
        "print(accuracy(classifier, Xy_test))"
      ],
      "execution_count": 17,
      "outputs": [
        {
          "output_type": "stream",
          "text": [
            "0.9477777777777778\n"
          ],
          "name": "stdout"
        }
      ]
    },
    {
      "cell_type": "code",
      "metadata": {
        "id": "TRIwD-EsSnKD"
      },
      "source": [
        "#save\n",
        "import pickle\n",
        "f = open('my_classifier.pickle', 'wb')\n",
        "pickle.dump(classifier, f)\n",
        "f.close()"
      ],
      "execution_count": 20,
      "outputs": []
    },
    {
      "cell_type": "code",
      "metadata": {
        "id": "9Oh85AQ7TlpN"
      },
      "source": [
        "#load\n",
        "import pickle\n",
        "f = open('my_classifier.pickle', 'rb')\n",
        "classifier = pickle.load(f)\n",
        "f.close()\n"
      ],
      "execution_count": 21,
      "outputs": []
    },
    {
      "cell_type": "code",
      "metadata": {
        "id": "dpHtBZThTfwe"
      },
      "source": [
        "guess = classifier.classify(format_sentence(\"the worst movie in existance. atrocious acting performance.\"))"
      ],
      "execution_count": 39,
      "outputs": []
    },
    {
      "cell_type": "code",
      "metadata": {
        "colab": {
          "base_uri": "https://localhost:8080/",
          "height": 35
        },
        "id": "l5wzTR8vULrF",
        "outputId": "a66aae1c-25ba-4e8a-c36e-ba32b1eed399"
      },
      "source": [
        "guess"
      ],
      "execution_count": 33,
      "outputs": [
        {
          "output_type": "execute_result",
          "data": {
            "application/vnd.google.colaboratory.intrinsic+json": {
              "type": "string"
            },
            "text/plain": [
              "'neg'"
            ]
          },
          "metadata": {
            "tags": []
          },
          "execution_count": 33
        }
      ]
    },
    {
      "cell_type": "code",
      "metadata": {
        "id": "F20yPEnOVSjP"
      },
      "source": [
        "guess1 = classifier.classify(format_sentence(\"great\"))"
      ],
      "execution_count": 47,
      "outputs": []
    },
    {
      "cell_type": "code",
      "metadata": {
        "colab": {
          "base_uri": "https://localhost:8080/",
          "height": 35
        },
        "id": "8WazgGB0VUCF",
        "outputId": "e8a21563-f11f-46d9-ac46-c5690b0dda44"
      },
      "source": [
        "guess1"
      ],
      "execution_count": 48,
      "outputs": [
        {
          "output_type": "execute_result",
          "data": {
            "application/vnd.google.colaboratory.intrinsic+json": {
              "type": "string"
            },
            "text/plain": [
              "'pos'"
            ]
          },
          "metadata": {
            "tags": []
          },
          "execution_count": 48
        }
      ]
    }
  ]
}